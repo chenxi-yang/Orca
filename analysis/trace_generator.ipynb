{
 "cells": [
  {
   "cell_type": "code",
   "execution_count": 6,
   "metadata": {},
   "outputs": [],
   "source": [
    "# generate traces with temporary drop in bandwidth\n",
    "\n",
    "# patterns\n",
    "# T_on seconds with 48mbps T_off with kmbps\n",
    "# I. T_on = 20, T_off = 5, k = 12\n",
    "# II. T_on = 20, T_off = 5, k = 24\n",
    "# II. T_on = 20, T_off = 5, k = 36"
   ]
  },
  {
   "cell_type": "code",
   "execution_count": 7,
   "metadata": {},
   "outputs": [],
   "source": [
    "trace_dir = f\"../traces\"\n",
    "\n",
    "# Case 1:\n",
    "t_on_list = [20]\n",
    "t_off_list = [5]\n",
    "k_list = [12, 24, 36, 48]"
   ]
  },
  {
   "cell_type": "code",
   "execution_count": 8,
   "metadata": {},
   "outputs": [],
   "source": [
    "def generate_trace(t_on, t_off, k, act_idx):\n",
    "    trace_name = f\"{t_on}s-48mbps-{t_off}s-{k}mbps-{act_idx}\"\n",
    "    trace_f = open(f\"{trace_dir}/{trace_name}\", \"w\")\n",
    "    \n",
    "    # 20 seconds of 48mbps == 4 packets per ms\n",
    "    for i in range(1, (t_on * 1000) + 1):\n",
    "        for _ in range(4):\n",
    "            trace_f.write(f\"{i}\\n\")\n",
    "    \n",
    "    num_pkt = int(k / 12)\n",
    "    for i in range((t_on * 1000) + 1, (t_on + t_off) * 1000 + 1):\n",
    "        for _ in range(num_pkt):\n",
    "            trace_f.write(f\"{i}\\n\")\n",
    "    \n",
    "    trace_f.close()\n",
    "\n",
    "def run_generator():\n",
    "    total_acts = len(t_on_list) * len(t_off_list) * len(k_list)\n",
    "    act_idx = 0\n",
    "    for t_on in t_on_list:\n",
    "        for t_off in t_off_list:\n",
    "            for k in k_list:\n",
    "                generate_trace(t_on, t_off, k, act_idx)\n",
    "                act_idx += 1"
   ]
  },
  {
   "cell_type": "code",
   "execution_count": 9,
   "metadata": {},
   "outputs": [],
   "source": [
    "run_generator()"
   ]
  }
 ],
 "metadata": {
  "kernelspec": {
   "display_name": "Python 3",
   "language": "python",
   "name": "python3"
  },
  "language_info": {
   "codemirror_mode": {
    "name": "ipython",
    "version": 3
   },
   "file_extension": ".py",
   "mimetype": "text/x-python",
   "name": "python",
   "nbconvert_exporter": "python",
   "pygments_lexer": "ipython3",
   "version": "3.6.9"
  },
  "orig_nbformat": 4
 },
 "nbformat": 4,
 "nbformat_minor": 2
}
